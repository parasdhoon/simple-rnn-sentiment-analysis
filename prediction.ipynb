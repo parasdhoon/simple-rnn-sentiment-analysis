{
  "cells": [
    {
      "cell_type": "code",
      "execution_count": 1,
      "metadata": {
        "id": "FRdCoWpSUCIF"
      },
      "outputs": [],
      "source": [
        "# Step 1: Import Libraries and Load the Model\n",
        "import numpy as np\n",
        "import tensorflow as tf\n",
        "from tensorflow.keras.datasets import imdb\n",
        "from tensorflow.keras.preprocessing import sequence\n",
        "from tensorflow.keras.models import load_model"
      ]
    },
    {
      "cell_type": "code",
      "execution_count": 2,
      "metadata": {
        "colab": {
          "base_uri": "https://localhost:8080/"
        },
        "id": "NXtjBr6_UYxd",
        "outputId": "f59bca5e-3e37-41a4-8c3a-dcc7e3402d30"
      },
      "outputs": [
        {
          "name": "stdout",
          "output_type": "stream",
          "text": [
            "Downloading data from https://storage.googleapis.com/tensorflow/tf-keras-datasets/imdb_word_index.json\n",
            "\u001b[1m1641221/1641221\u001b[0m \u001b[32m━━━━━━━━━━━━━━━━━━━━\u001b[0m\u001b[37m\u001b[0m \u001b[1m0s\u001b[0m 0us/step\n"
          ]
        }
      ],
      "source": [
        "# Load the IMDB dataset word index\n",
        "word_index = imdb.get_word_index()\n",
        "reverse_word_index = {value: key for key, value in word_index.items()}"
      ]
    },
    {
      "cell_type": "code",
      "execution_count": 4,
      "metadata": {
        "colab": {
          "base_uri": "https://localhost:8080/",
          "height": 296
        },
        "id": "4Q394s2vUn2F",
        "outputId": "6280a3c5-dbee-4c96-8573-05530cb8a015"
      },
      "outputs": [
        {
          "name": "stderr",
          "output_type": "stream",
          "text": [
            "WARNING:absl:Compiled the loaded model, but the compiled metrics have yet to be built. `model.compile_metrics` will be empty until you train or evaluate the model.\n"
          ]
        },
        {
          "data": {
            "text/html": [
              "<pre style=\"white-space:pre;overflow-x:auto;line-height:normal;font-family:Menlo,'DejaVu Sans Mono',consolas,'Courier New',monospace\"><span style=\"font-weight: bold\">Model: \"sequential\"</span>\n",
              "</pre>\n"
            ],
            "text/plain": [
              "\u001b[1mModel: \"sequential\"\u001b[0m\n"
            ]
          },
          "metadata": {},
          "output_type": "display_data"
        },
        {
          "data": {
            "text/html": [
              "<pre style=\"white-space:pre;overflow-x:auto;line-height:normal;font-family:Menlo,'DejaVu Sans Mono',consolas,'Courier New',monospace\">┏━━━━━━━━━━━━━━━━━━━━━━━━━━━━━━━━━━━━━━┳━━━━━━━━━━━━━━━━━━━━━━━━━━━━━┳━━━━━━━━━━━━━━━━━┓\n",
              "┃<span style=\"font-weight: bold\"> Layer (type)                         </span>┃<span style=\"font-weight: bold\"> Output Shape                </span>┃<span style=\"font-weight: bold\">         Param # </span>┃\n",
              "┡━━━━━━━━━━━━━━━━━━━━━━━━━━━━━━━━━━━━━━╇━━━━━━━━━━━━━━━━━━━━━━━━━━━━━╇━━━━━━━━━━━━━━━━━┩\n",
              "│ embedding (<span style=\"color: #0087ff; text-decoration-color: #0087ff\">Embedding</span>)                │ (<span style=\"color: #00af00; text-decoration-color: #00af00\">32</span>, <span style=\"color: #00af00; text-decoration-color: #00af00\">500</span>, <span style=\"color: #00af00; text-decoration-color: #00af00\">128</span>)              │       <span style=\"color: #00af00; text-decoration-color: #00af00\">1,280,000</span> │\n",
              "├──────────────────────────────────────┼─────────────────────────────┼─────────────────┤\n",
              "│ simple_rnn (<span style=\"color: #0087ff; text-decoration-color: #0087ff\">SimpleRNN</span>)               │ (<span style=\"color: #00af00; text-decoration-color: #00af00\">32</span>, <span style=\"color: #00af00; text-decoration-color: #00af00\">128</span>)                   │          <span style=\"color: #00af00; text-decoration-color: #00af00\">32,896</span> │\n",
              "├──────────────────────────────────────┼─────────────────────────────┼─────────────────┤\n",
              "│ dense (<span style=\"color: #0087ff; text-decoration-color: #0087ff\">Dense</span>)                        │ (<span style=\"color: #00af00; text-decoration-color: #00af00\">32</span>, <span style=\"color: #00af00; text-decoration-color: #00af00\">1</span>)                     │             <span style=\"color: #00af00; text-decoration-color: #00af00\">129</span> │\n",
              "└──────────────────────────────────────┴─────────────────────────────┴─────────────────┘\n",
              "</pre>\n"
            ],
            "text/plain": [
              "┏━━━━━━━━━━━━━━━━━━━━━━━━━━━━━━━━━━━━━━┳━━━━━━━━━━━━━━━━━━━━━━━━━━━━━┳━━━━━━━━━━━━━━━━━┓\n",
              "┃\u001b[1m \u001b[0m\u001b[1mLayer (type)                        \u001b[0m\u001b[1m \u001b[0m┃\u001b[1m \u001b[0m\u001b[1mOutput Shape               \u001b[0m\u001b[1m \u001b[0m┃\u001b[1m \u001b[0m\u001b[1m        Param #\u001b[0m\u001b[1m \u001b[0m┃\n",
              "┡━━━━━━━━━━━━━━━━━━━━━━━━━━━━━━━━━━━━━━╇━━━━━━━━━━━━━━━━━━━━━━━━━━━━━╇━━━━━━━━━━━━━━━━━┩\n",
              "│ embedding (\u001b[38;5;33mEmbedding\u001b[0m)                │ (\u001b[38;5;34m32\u001b[0m, \u001b[38;5;34m500\u001b[0m, \u001b[38;5;34m128\u001b[0m)              │       \u001b[38;5;34m1,280,000\u001b[0m │\n",
              "├──────────────────────────────────────┼─────────────────────────────┼─────────────────┤\n",
              "│ simple_rnn (\u001b[38;5;33mSimpleRNN\u001b[0m)               │ (\u001b[38;5;34m32\u001b[0m, \u001b[38;5;34m128\u001b[0m)                   │          \u001b[38;5;34m32,896\u001b[0m │\n",
              "├──────────────────────────────────────┼─────────────────────────────┼─────────────────┤\n",
              "│ dense (\u001b[38;5;33mDense\u001b[0m)                        │ (\u001b[38;5;34m32\u001b[0m, \u001b[38;5;34m1\u001b[0m)                     │             \u001b[38;5;34m129\u001b[0m │\n",
              "└──────────────────────────────────────┴─────────────────────────────┴─────────────────┘\n"
            ]
          },
          "metadata": {},
          "output_type": "display_data"
        },
        {
          "data": {
            "text/html": [
              "<pre style=\"white-space:pre;overflow-x:auto;line-height:normal;font-family:Menlo,'DejaVu Sans Mono',consolas,'Courier New',monospace\"><span style=\"font-weight: bold\"> Total params: </span><span style=\"color: #00af00; text-decoration-color: #00af00\">1,313,027</span> (5.01 MB)\n",
              "</pre>\n"
            ],
            "text/plain": [
              "\u001b[1m Total params: \u001b[0m\u001b[38;5;34m1,313,027\u001b[0m (5.01 MB)\n"
            ]
          },
          "metadata": {},
          "output_type": "display_data"
        },
        {
          "data": {
            "text/html": [
              "<pre style=\"white-space:pre;overflow-x:auto;line-height:normal;font-family:Menlo,'DejaVu Sans Mono',consolas,'Courier New',monospace\"><span style=\"font-weight: bold\"> Trainable params: </span><span style=\"color: #00af00; text-decoration-color: #00af00\">1,313,025</span> (5.01 MB)\n",
              "</pre>\n"
            ],
            "text/plain": [
              "\u001b[1m Trainable params: \u001b[0m\u001b[38;5;34m1,313,025\u001b[0m (5.01 MB)\n"
            ]
          },
          "metadata": {},
          "output_type": "display_data"
        },
        {
          "data": {
            "text/html": [
              "<pre style=\"white-space:pre;overflow-x:auto;line-height:normal;font-family:Menlo,'DejaVu Sans Mono',consolas,'Courier New',monospace\"><span style=\"font-weight: bold\"> Non-trainable params: </span><span style=\"color: #00af00; text-decoration-color: #00af00\">0</span> (0.00 B)\n",
              "</pre>\n"
            ],
            "text/plain": [
              "\u001b[1m Non-trainable params: \u001b[0m\u001b[38;5;34m0\u001b[0m (0.00 B)\n"
            ]
          },
          "metadata": {},
          "output_type": "display_data"
        },
        {
          "data": {
            "text/html": [
              "<pre style=\"white-space:pre;overflow-x:auto;line-height:normal;font-family:Menlo,'DejaVu Sans Mono',consolas,'Courier New',monospace\"><span style=\"font-weight: bold\"> Optimizer params: </span><span style=\"color: #00af00; text-decoration-color: #00af00\">2</span> (12.00 B)\n",
              "</pre>\n"
            ],
            "text/plain": [
              "\u001b[1m Optimizer params: \u001b[0m\u001b[38;5;34m2\u001b[0m (12.00 B)\n"
            ]
          },
          "metadata": {},
          "output_type": "display_data"
        }
      ],
      "source": [
        "# Load the pre-trained model with Re:U activation\n",
        "model = load_model('simple_rnn_imdb.h5')\n",
        "model.summary()"
      ]
    },
    {
      "cell_type": "code",
      "execution_count": 5,
      "metadata": {
        "colab": {
          "base_uri": "https://localhost:8080/"
        },
        "id": "7xevl1buUyvx",
        "outputId": "b98e6249-fb6e-4fe1-9da2-4e49395832b9"
      },
      "outputs": [
        {
          "data": {
            "text/plain": [
              "[array([[ 0.47976032, -0.74598676, -0.43168995, ..., -0.9002977 ,\n",
              "         -0.198753  , -0.76045436],\n",
              "        [ 0.05338207,  0.02048095,  0.02837191, ..., -0.04235558,\n",
              "         -0.06529515, -0.06504133],\n",
              "        [ 0.09244224, -0.11547544, -0.1626848 , ..., -0.15810503,\n",
              "         -0.05570791, -0.10318236],\n",
              "        ...,\n",
              "        [ 0.09704868,  0.02952251,  0.11491264, ...,  0.02812101,\n",
              "         -0.13828598, -0.00488043],\n",
              "        [-0.04338774,  0.02930414,  0.1691811 , ...,  0.04653184,\n",
              "          0.03380859,  0.06013269],\n",
              "        [ 0.1445438 , -0.03270136, -0.07119165, ...,  0.05763051,\n",
              "          0.06160806, -0.17880172]], dtype=float32),\n",
              " array([[ 0.14040567, -0.0007345 , -0.19954525, ..., -0.08547058,\n",
              "         -0.071991  , -0.12776938],\n",
              "        [-0.12365907,  0.05294315, -0.11838389, ..., -0.13210258,\n",
              "          0.15345192,  0.00982424],\n",
              "        [-0.0718318 , -0.01119514, -0.10896205, ...,  0.00558215,\n",
              "         -0.12713034,  0.12623233],\n",
              "        ...,\n",
              "        [-0.16024733, -0.10710312,  0.14182797, ...,  0.05436255,\n",
              "         -0.0151716 ,  0.07307459],\n",
              "        [ 0.07428722, -0.05815319,  0.13181907, ..., -0.04382759,\n",
              "          0.11253937,  0.10543454],\n",
              "        [ 0.02277465,  0.07026491,  0.10562111, ..., -0.01932859,\n",
              "          0.02846371, -0.01678439]], dtype=float32),\n",
              " array([[ 0.1175001 , -0.11093219,  0.12600924, ..., -0.11678059,\n",
              "         -0.09229364, -0.14646097],\n",
              "        [-0.01075951,  0.01878793,  0.05115741, ...,  0.14986905,\n",
              "          0.07986335, -0.04040774],\n",
              "        [ 0.14306085, -0.02115916,  0.00468295, ..., -0.31615514,\n",
              "         -0.0050382 , -0.06328285],\n",
              "        ...,\n",
              "        [ 0.08319344, -0.04292129,  0.04919016, ..., -0.10645068,\n",
              "          0.05678777,  0.01762008],\n",
              "        [-0.06324803, -0.04140582, -0.13308044, ...,  0.01228186,\n",
              "          0.03442833, -0.01662253],\n",
              "        [ 0.00420832,  0.10662621, -0.04860616, ..., -0.03543926,\n",
              "         -0.02991754, -0.06136436]], dtype=float32),\n",
              " array([-0.01499702,  0.00152635, -0.0286523 , -0.02152904,  0.01608987,\n",
              "        -0.03070808,  0.03896755, -0.02299754,  0.01546215, -0.0276239 ,\n",
              "        -0.01556719, -0.03129658, -0.01168064,  0.01818861, -0.02676686,\n",
              "        -0.00133781, -0.0072174 , -0.06637739, -0.00729604, -0.0106092 ,\n",
              "         0.00837001, -0.01483296, -0.02533746, -0.01893557, -0.01139776,\n",
              "        -0.01533556,  0.00030204, -0.02082283,  0.01566078,  0.03764518,\n",
              "        -0.01739606,  0.0012896 , -0.009569  , -0.0056158 , -0.03000649,\n",
              "         0.00372885, -0.0441312 , -0.01060662, -0.01101807, -0.05325723,\n",
              "        -0.0260765 , -0.006928  ,  0.02415443,  0.0203333 , -0.01874267,\n",
              "         0.05424253, -0.01535666, -0.04054633,  0.00329093, -0.01530562,\n",
              "         0.00399193,  0.00737437, -0.04559693,  0.01220986, -0.00964948,\n",
              "        -0.01750516,  0.01601924, -0.03528854, -0.020729  , -0.00049601,\n",
              "        -0.02329171,  0.00660033,  0.01538629, -0.02894718, -0.00086184,\n",
              "         0.03704618,  0.02659783, -0.02228977, -0.00654279,  0.02809022,\n",
              "        -0.01371421,  0.02351688, -0.00235152,  0.0100483 ,  0.00866879,\n",
              "        -0.01906257, -0.02280563,  0.00899041, -0.01379   , -0.03872246,\n",
              "        -0.01950625,  0.01115046, -0.01016799,  0.02726924, -0.00502143,\n",
              "        -0.00381599,  0.03811774,  0.01139987, -0.02712791, -0.00327441,\n",
              "        -0.02091814, -0.03053713,  0.00466907, -0.00856726,  0.00876304,\n",
              "         0.00266737,  0.01545684, -0.02925238, -0.01422293,  0.0239973 ,\n",
              "         0.00854127, -0.04116833, -0.02893299, -0.02260675,  0.00786962,\n",
              "        -0.02917384, -0.02957437, -0.0131503 , -0.0301015 , -0.03675145,\n",
              "         0.01117248, -0.02389154, -0.00266552, -0.01627172,  0.00628903,\n",
              "         0.02163313, -0.01121447, -0.00845503, -0.01807294, -0.0238439 ,\n",
              "        -0.00769661, -0.00892157, -0.00155358, -0.00626616,  0.01505499,\n",
              "        -0.02182853, -0.00375637, -0.01818086], dtype=float32),\n",
              " array([[-0.11598138],\n",
              "        [ 0.04164895],\n",
              "        [ 0.12866275],\n",
              "        [-0.17443225],\n",
              "        [ 0.12914447],\n",
              "        [-0.16092956],\n",
              "        [-0.2023618 ],\n",
              "        [ 0.15598132],\n",
              "        [-0.2399573 ],\n",
              "        [ 0.16402659],\n",
              "        [ 0.10511503],\n",
              "        [ 0.15515655],\n",
              "        [ 0.26137078],\n",
              "        [-0.0515782 ],\n",
              "        [ 0.04283673],\n",
              "        [ 0.06803228],\n",
              "        [-0.11157019],\n",
              "        [ 0.0969246 ],\n",
              "        [-0.09062777],\n",
              "        [-0.16230981],\n",
              "        [-0.08000498],\n",
              "        [ 0.07392861],\n",
              "        [ 0.20402467],\n",
              "        [ 0.20683768],\n",
              "        [ 0.01848659],\n",
              "        [-0.10796356],\n",
              "        [ 0.01272205],\n",
              "        [ 0.08368467],\n",
              "        [-0.09933466],\n",
              "        [-0.17721379],\n",
              "        [ 0.04007823],\n",
              "        [-0.16799958],\n",
              "        [ 0.14564858],\n",
              "        [ 0.15449959],\n",
              "        [-0.14920984],\n",
              "        [ 0.21561065],\n",
              "        [ 0.10471941],\n",
              "        [ 0.1773512 ],\n",
              "        [-0.20698687],\n",
              "        [ 0.28481853],\n",
              "        [ 0.10450192],\n",
              "        [ 0.05582869],\n",
              "        [-0.19039662],\n",
              "        [ 0.18443874],\n",
              "        [-0.0364179 ],\n",
              "        [ 0.16457208],\n",
              "        [ 0.04650428],\n",
              "        [-0.10691539],\n",
              "        [-0.02813736],\n",
              "        [ 0.05084939],\n",
              "        [-0.24647614],\n",
              "        [ 0.07754811],\n",
              "        [ 0.06197764],\n",
              "        [-0.04220663],\n",
              "        [ 0.26180163],\n",
              "        [-0.14890184],\n",
              "        [-0.02215654],\n",
              "        [ 0.03212938],\n",
              "        [ 0.10398961],\n",
              "        [ 0.09195551],\n",
              "        [ 0.06095173],\n",
              "        [ 0.19008231],\n",
              "        [-0.1516473 ],\n",
              "        [ 0.01667021],\n",
              "        [ 0.580507  ],\n",
              "        [ 0.17803292],\n",
              "        [-0.02033991],\n",
              "        [ 0.01140598],\n",
              "        [-0.07527791],\n",
              "        [-0.22334555],\n",
              "        [ 0.00603114],\n",
              "        [-0.16972074],\n",
              "        [ 0.21859758],\n",
              "        [-0.15184401],\n",
              "        [-0.0135972 ],\n",
              "        [-0.01047872],\n",
              "        [-0.16564116],\n",
              "        [-0.13403682],\n",
              "        [-0.10654074],\n",
              "        [-0.10698482],\n",
              "        [ 0.18113936],\n",
              "        [ 0.04817121],\n",
              "        [ 0.1353238 ],\n",
              "        [ 0.16908313],\n",
              "        [ 0.0980484 ],\n",
              "        [-0.21636972],\n",
              "        [-0.21934684],\n",
              "        [-0.16169237],\n",
              "        [ 0.16745791],\n",
              "        [-0.1923785 ],\n",
              "        [ 0.01841643],\n",
              "        [ 0.5023973 ],\n",
              "        [-0.06842336],\n",
              "        [ 0.25123477],\n",
              "        [ 0.02606769],\n",
              "        [-0.05469557],\n",
              "        [ 0.09661762],\n",
              "        [ 0.18806303],\n",
              "        [-0.2971134 ],\n",
              "        [-0.21166275],\n",
              "        [ 0.12230815],\n",
              "        [ 0.04331528],\n",
              "        [-0.09633231],\n",
              "        [-0.16654906],\n",
              "        [-0.12054078],\n",
              "        [-0.04441166],\n",
              "        [ 0.14851944],\n",
              "        [ 0.19885695],\n",
              "        [ 0.15268628],\n",
              "        [-0.2738566 ],\n",
              "        [ 0.13328934],\n",
              "        [ 0.16007356],\n",
              "        [ 0.10770874],\n",
              "        [-0.00363432],\n",
              "        [-0.13629687],\n",
              "        [ 0.18376175],\n",
              "        [-0.17438677],\n",
              "        [ 0.12190057],\n",
              "        [-0.16521254],\n",
              "        [-0.02706675],\n",
              "        [-0.19635826],\n",
              "        [-0.1248327 ],\n",
              "        [ 0.12066422],\n",
              "        [ 0.12195192],\n",
              "        [-0.09289523],\n",
              "        [ 0.13876629],\n",
              "        [ 0.06287785],\n",
              "        [ 0.20641893]], dtype=float32),\n",
              " array([2.9551864], dtype=float32)]"
            ]
          },
          "execution_count": 5,
          "metadata": {},
          "output_type": "execute_result"
        }
      ],
      "source": [
        "model.get_weights()"
      ]
    },
    {
      "cell_type": "code",
      "execution_count": 6,
      "metadata": {
        "id": "BPlZPrDZU9se"
      },
      "outputs": [],
      "source": [
        "# Step 2: Helper Functions\n",
        "# Function to decode reviews\n",
        "def decode_review(encoded_review):\n",
        "  return ' '.join([reverse_word_index.get(i-3, '?') for i in encoded_review])\n",
        "\n",
        "# Function to preprocess user input\n",
        "def preprocess_text(text):\n",
        "  words = text.lower().split()\n",
        "  encoded_review = [word_index.get(word, 2) + 3 for word in words]\n",
        "  padded_review = sequence.pad_sequences([encoded_review], maxlen=500)\n",
        "  return padded_review"
      ]
    },
    {
      "cell_type": "code",
      "execution_count": 9,
      "metadata": {
        "id": "w7FT7oSVVrgm"
      },
      "outputs": [],
      "source": [
        "### Prediction Function\n",
        "\n",
        "def predict_sentiment(review):\n",
        "  preprocessed_input = preprocess_text(review)\n",
        "\n",
        "  prediction = model.predict(preprocessed_input)\n",
        "\n",
        "  sentiment = 'Positive' if prediction[0][0] > 0.5 else 'Negative'\n",
        "\n",
        "  return sentiment, prediction[0][0]"
      ]
    },
    {
      "cell_type": "code",
      "execution_count": 15,
      "metadata": {
        "colab": {
          "base_uri": "https://localhost:8080/"
        },
        "id": "O3wpXmwzWV1D",
        "outputId": "2d030246-1ded-48fd-f789-620382345325"
      },
      "outputs": [
        {
          "name": "stdout",
          "output_type": "stream",
          "text": [
            "\u001b[1m1/1\u001b[0m \u001b[32m━━━━━━━━━━━━━━━━━━━━\u001b[0m\u001b[37m\u001b[0m \u001b[1m0s\u001b[0m 22ms/step\n",
            "Review: This movie was fantastic! The acting was great and the plot was thrilling.\n",
            "Sentiment: Positive\n",
            "Prediction Score: 0.7835702300071716\n"
          ]
        }
      ],
      "source": [
        "# Step 4: User Input and Prediction\n",
        "# Example review for prediction\n",
        "example_review = \"This movie was fantastic! The acting was great and the plot was thrilling.\"\n",
        "\n",
        "sentiment, score = predict_sentiment(example_review)\n",
        "\n",
        "print(f'Review: {example_review}')\n",
        "print(f'Sentiment: {sentiment}')\n",
        "print(f'Prediction Score: {score}')"
      ]
    }
  ],
  "metadata": {
    "accelerator": "GPU",
    "colab": {
      "gpuType": "T4",
      "provenance": []
    },
    "kernelspec": {
      "display_name": "base",
      "language": "python",
      "name": "python3"
    },
    "language_info": {
      "name": "python",
      "version": "3.11.7"
    }
  },
  "nbformat": 4,
  "nbformat_minor": 0
}
